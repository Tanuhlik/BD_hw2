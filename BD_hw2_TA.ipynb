{
  "nbformat": 4,
  "nbformat_minor": 0,
  "metadata": {
    "colab": {
      "name": "BD_hw2_TA.ipynb",
      "version": "0.3.2",
      "provenance": [],
      "include_colab_link": true
    },
    "kernelspec": {
      "name": "python3",
      "display_name": "Python 3"
    }
  },
  "cells": [
    {
      "cell_type": "markdown",
      "metadata": {
        "id": "view-in-github",
        "colab_type": "text"
      },
      "source": [
        "<a href=\"https://colab.research.google.com/github/Tanuhlik/BD_hw2/blob/master/BD_hw2_TA.ipynb\" target=\"_parent\"><img src=\"https://colab.research.google.com/assets/colab-badge.svg\" alt=\"Open In Colab\"/></a>"
      ]
    },
    {
      "cell_type": "code",
      "metadata": {
        "id": "tzn22n59KR6c",
        "colab_type": "code",
        "colab": {}
      },
      "source": [
        "from pyspark.sql import SparkSession\n",
        "\n",
        "spark = SparkSession.builder.master(\"local[*]\").getOrCreate()"
      ],
      "execution_count": 0,
      "outputs": []
    },
    {
      "cell_type": "code",
      "metadata": {
        "id": "oNkSnnFyKWEc",
        "colab_type": "code",
        "colab": {}
      },
      "source": [
        "df = spark.read.csv(\"house_prices.csv\", header=True)"
      ],
      "execution_count": 0,
      "outputs": []
    },
    {
      "cell_type": "code",
      "metadata": {
        "id": "RPIxVzFeK9Lb",
        "colab_type": "code",
        "outputId": "a975e294-1af4-4d0d-ae6b-470bf718c1a9",
        "colab": {
          "base_uri": "https://localhost:8080/",
          "height": 1428
        }
      },
      "source": [
        "df.printSchema()"
      ],
      "execution_count": 97,
      "outputs": [
        {
          "output_type": "stream",
          "text": [
            "root\n",
            " |-- Id: string (nullable = true)\n",
            " |-- MSSubClass: string (nullable = true)\n",
            " |-- MSZoning: string (nullable = true)\n",
            " |-- LotFrontage: string (nullable = true)\n",
            " |-- LotArea: string (nullable = true)\n",
            " |-- Street: string (nullable = true)\n",
            " |-- Alley: string (nullable = true)\n",
            " |-- LotShape: string (nullable = true)\n",
            " |-- LandContour: string (nullable = true)\n",
            " |-- Utilities: string (nullable = true)\n",
            " |-- LotConfig: string (nullable = true)\n",
            " |-- LandSlope: string (nullable = true)\n",
            " |-- Neighborhood: string (nullable = true)\n",
            " |-- Condition1: string (nullable = true)\n",
            " |-- Condition2: string (nullable = true)\n",
            " |-- BldgType: string (nullable = true)\n",
            " |-- HouseStyle: string (nullable = true)\n",
            " |-- OverallQual: string (nullable = true)\n",
            " |-- OverallCond: string (nullable = true)\n",
            " |-- YearBuilt: string (nullable = true)\n",
            " |-- YearRemodAdd: string (nullable = true)\n",
            " |-- RoofStyle: string (nullable = true)\n",
            " |-- RoofMatl: string (nullable = true)\n",
            " |-- Exterior1st: string (nullable = true)\n",
            " |-- Exterior2nd: string (nullable = true)\n",
            " |-- MasVnrType: string (nullable = true)\n",
            " |-- MasVnrArea: string (nullable = true)\n",
            " |-- ExterQual: string (nullable = true)\n",
            " |-- ExterCond: string (nullable = true)\n",
            " |-- Foundation: string (nullable = true)\n",
            " |-- BsmtQual: string (nullable = true)\n",
            " |-- BsmtCond: string (nullable = true)\n",
            " |-- BsmtExposure: string (nullable = true)\n",
            " |-- BsmtFinType1: string (nullable = true)\n",
            " |-- BsmtFinSF1: string (nullable = true)\n",
            " |-- BsmtFinType2: string (nullable = true)\n",
            " |-- BsmtFinSF2: string (nullable = true)\n",
            " |-- BsmtUnfSF: string (nullable = true)\n",
            " |-- TotalBsmtSF: string (nullable = true)\n",
            " |-- Heating: string (nullable = true)\n",
            " |-- HeatingQC: string (nullable = true)\n",
            " |-- CentralAir: string (nullable = true)\n",
            " |-- Electrical: string (nullable = true)\n",
            " |-- 1stFlrSF: string (nullable = true)\n",
            " |-- 2ndFlrSF: string (nullable = true)\n",
            " |-- LowQualFinSF: string (nullable = true)\n",
            " |-- GrLivArea: string (nullable = true)\n",
            " |-- BsmtFullBath: string (nullable = true)\n",
            " |-- BsmtHalfBath: string (nullable = true)\n",
            " |-- FullBath: string (nullable = true)\n",
            " |-- HalfBath: string (nullable = true)\n",
            " |-- BedroomAbvGr: string (nullable = true)\n",
            " |-- KitchenAbvGr: string (nullable = true)\n",
            " |-- KitchenQual: string (nullable = true)\n",
            " |-- TotRmsAbvGrd: string (nullable = true)\n",
            " |-- Functional: string (nullable = true)\n",
            " |-- Fireplaces: string (nullable = true)\n",
            " |-- FireplaceQu: string (nullable = true)\n",
            " |-- GarageType: string (nullable = true)\n",
            " |-- GarageYrBlt: string (nullable = true)\n",
            " |-- GarageFinish: string (nullable = true)\n",
            " |-- GarageCars: string (nullable = true)\n",
            " |-- GarageArea: string (nullable = true)\n",
            " |-- GarageQual: string (nullable = true)\n",
            " |-- GarageCond: string (nullable = true)\n",
            " |-- PavedDrive: string (nullable = true)\n",
            " |-- WoodDeckSF: string (nullable = true)\n",
            " |-- OpenPorchSF: string (nullable = true)\n",
            " |-- EnclosedPorch: string (nullable = true)\n",
            " |-- 3SsnPorch: string (nullable = true)\n",
            " |-- ScreenPorch: string (nullable = true)\n",
            " |-- PoolArea: string (nullable = true)\n",
            " |-- PoolQC: string (nullable = true)\n",
            " |-- Fence: string (nullable = true)\n",
            " |-- MiscFeature: string (nullable = true)\n",
            " |-- MiscVal: string (nullable = true)\n",
            " |-- MoSold: string (nullable = true)\n",
            " |-- YrSold: string (nullable = true)\n",
            " |-- SaleType: string (nullable = true)\n",
            " |-- SaleCondition: string (nullable = true)\n",
            " |-- SalePrice: string (nullable = true)\n",
            "\n"
          ],
          "name": "stdout"
        }
      ]
    },
    {
      "cell_type": "code",
      "metadata": {
        "id": "-pMqy079LHVq",
        "colab_type": "code",
        "outputId": "fcf1d16a-d737-4ad5-81b8-73085d2641dc",
        "colab": {
          "base_uri": "https://localhost:8080/",
          "height": 289
        }
      },
      "source": [
        "df.select('YearBuilt').show(10)"
      ],
      "execution_count": 17,
      "outputs": [
        {
          "output_type": "stream",
          "text": [
            "+---------+\n",
            "|YearBuilt|\n",
            "+---------+\n",
            "|     2003|\n",
            "|     1976|\n",
            "|     2001|\n",
            "|     1915|\n",
            "|     2000|\n",
            "|     1993|\n",
            "|     2004|\n",
            "|     1973|\n",
            "|     1931|\n",
            "|     1939|\n",
            "+---------+\n",
            "only showing top 10 rows\n",
            "\n"
          ],
          "name": "stdout"
        }
      ]
    },
    {
      "cell_type": "code",
      "metadata": {
        "id": "OpreBk-iLOab",
        "colab_type": "code",
        "outputId": "217bf27e-3054-4be8-c07f-5e8d22c9bc1e",
        "colab": {
          "base_uri": "https://localhost:8080/",
          "height": 289
        }
      },
      "source": [
        "df.select(df['YearBuilt'] + 1).show(10)"
      ],
      "execution_count": 18,
      "outputs": [
        {
          "output_type": "stream",
          "text": [
            "+---------------+\n",
            "|(YearBuilt + 1)|\n",
            "+---------------+\n",
            "|         2004.0|\n",
            "|         1977.0|\n",
            "|         2002.0|\n",
            "|         1916.0|\n",
            "|         2001.0|\n",
            "|         1994.0|\n",
            "|         2005.0|\n",
            "|         1974.0|\n",
            "|         1932.0|\n",
            "|         1940.0|\n",
            "+---------------+\n",
            "only showing top 10 rows\n",
            "\n"
          ],
          "name": "stdout"
        }
      ]
    },
    {
      "cell_type": "code",
      "metadata": {
        "id": "UZJjagSXLSSb",
        "colab_type": "code",
        "outputId": "e12f8975-90a7-4be1-ef0c-549af89c1351",
        "colab": {
          "base_uri": "https://localhost:8080/",
          "height": 289
        }
      },
      "source": [
        "df.select(df['SalePrice'] * 2).show(10)"
      ],
      "execution_count": 19,
      "outputs": [
        {
          "output_type": "stream",
          "text": [
            "+---------------+\n",
            "|(SalePrice * 2)|\n",
            "+---------------+\n",
            "|       417000.0|\n",
            "|       363000.0|\n",
            "|       447000.0|\n",
            "|       280000.0|\n",
            "|       500000.0|\n",
            "|       286000.0|\n",
            "|       614000.0|\n",
            "|       400000.0|\n",
            "|       259800.0|\n",
            "|       236000.0|\n",
            "+---------------+\n",
            "only showing top 10 rows\n",
            "\n"
          ],
          "name": "stdout"
        }
      ]
    },
    {
      "cell_type": "code",
      "metadata": {
        "id": "guO4w1ZpLVyC",
        "colab_type": "code",
        "outputId": "4cfc1cb4-e857-4440-af8e-ab785ff05fb1",
        "colab": {
          "base_uri": "https://localhost:8080/",
          "height": 204
        }
      },
      "source": [
        "df.filter(df['YearBuilt'] > 2000).filter(df['YearBuilt'] < 2005).select('Id').show(5)"
      ],
      "execution_count": 20,
      "outputs": [
        {
          "output_type": "stream",
          "text": [
            "+---+\n",
            "| Id|\n",
            "+---+\n",
            "|  1|\n",
            "|  3|\n",
            "|  7|\n",
            "| 19|\n",
            "| 23|\n",
            "+---+\n",
            "only showing top 5 rows\n",
            "\n"
          ],
          "name": "stdout"
        }
      ]
    },
    {
      "cell_type": "code",
      "metadata": {
        "id": "9MyLgfGqLZWK",
        "colab_type": "code",
        "outputId": "5a1ccf6b-e442-4e3c-b3a3-8ae45d147ecd",
        "colab": {
          "base_uri": "https://localhost:8080/",
          "height": 34
        }
      },
      "source": [
        "df.filter(df['YearBuilt'] > 2000).count()"
      ],
      "execution_count": 21,
      "outputs": [
        {
          "output_type": "execute_result",
          "data": {
            "text/plain": [
              "364"
            ]
          },
          "metadata": {
            "tags": []
          },
          "execution_count": 21
        }
      ]
    },
    {
      "cell_type": "code",
      "metadata": {
        "id": "23DHL95NPQVh",
        "colab_type": "code",
        "outputId": "0b460c59-bef5-40f6-fff5-9e5c82faad94",
        "colab": {
          "base_uri": "https://localhost:8080/",
          "height": 34
        }
      },
      "source": [
        "df.filter(df['SalePrice'] > 100000).filter(df['SalePrice'] < 200000).count()"
      ],
      "execution_count": 22,
      "outputs": [
        {
          "output_type": "execute_result",
          "data": {
            "text/plain": [
              "902"
            ]
          },
          "metadata": {
            "tags": []
          },
          "execution_count": 22
        }
      ]
    },
    {
      "cell_type": "code",
      "metadata": {
        "id": "_BpFWIkGLcBj",
        "colab_type": "code",
        "outputId": "80d6eb54-1608-421b-8e27-9fe7202a80ab",
        "colab": {
          "base_uri": "https://localhost:8080/",
          "height": 1394
        }
      },
      "source": [
        "df.columns"
      ],
      "execution_count": 23,
      "outputs": [
        {
          "output_type": "execute_result",
          "data": {
            "text/plain": [
              "['Id',\n",
              " 'MSSubClass',\n",
              " 'MSZoning',\n",
              " 'LotFrontage',\n",
              " 'LotArea',\n",
              " 'Street',\n",
              " 'Alley',\n",
              " 'LotShape',\n",
              " 'LandContour',\n",
              " 'Utilities',\n",
              " 'LotConfig',\n",
              " 'LandSlope',\n",
              " 'Neighborhood',\n",
              " 'Condition1',\n",
              " 'Condition2',\n",
              " 'BldgType',\n",
              " 'HouseStyle',\n",
              " 'OverallQual',\n",
              " 'OverallCond',\n",
              " 'YearBuilt',\n",
              " 'YearRemodAdd',\n",
              " 'RoofStyle',\n",
              " 'RoofMatl',\n",
              " 'Exterior1st',\n",
              " 'Exterior2nd',\n",
              " 'MasVnrType',\n",
              " 'MasVnrArea',\n",
              " 'ExterQual',\n",
              " 'ExterCond',\n",
              " 'Foundation',\n",
              " 'BsmtQual',\n",
              " 'BsmtCond',\n",
              " 'BsmtExposure',\n",
              " 'BsmtFinType1',\n",
              " 'BsmtFinSF1',\n",
              " 'BsmtFinType2',\n",
              " 'BsmtFinSF2',\n",
              " 'BsmtUnfSF',\n",
              " 'TotalBsmtSF',\n",
              " 'Heating',\n",
              " 'HeatingQC',\n",
              " 'CentralAir',\n",
              " 'Electrical',\n",
              " '1stFlrSF',\n",
              " '2ndFlrSF',\n",
              " 'LowQualFinSF',\n",
              " 'GrLivArea',\n",
              " 'BsmtFullBath',\n",
              " 'BsmtHalfBath',\n",
              " 'FullBath',\n",
              " 'HalfBath',\n",
              " 'BedroomAbvGr',\n",
              " 'KitchenAbvGr',\n",
              " 'KitchenQual',\n",
              " 'TotRmsAbvGrd',\n",
              " 'Functional',\n",
              " 'Fireplaces',\n",
              " 'FireplaceQu',\n",
              " 'GarageType',\n",
              " 'GarageYrBlt',\n",
              " 'GarageFinish',\n",
              " 'GarageCars',\n",
              " 'GarageArea',\n",
              " 'GarageQual',\n",
              " 'GarageCond',\n",
              " 'PavedDrive',\n",
              " 'WoodDeckSF',\n",
              " 'OpenPorchSF',\n",
              " 'EnclosedPorch',\n",
              " '3SsnPorch',\n",
              " 'ScreenPorch',\n",
              " 'PoolArea',\n",
              " 'PoolQC',\n",
              " 'Fence',\n",
              " 'MiscFeature',\n",
              " 'MiscVal',\n",
              " 'MoSold',\n",
              " 'YrSold',\n",
              " 'SaleType',\n",
              " 'SaleCondition',\n",
              " 'SalePrice']"
            ]
          },
          "metadata": {
            "tags": []
          },
          "execution_count": 23
        }
      ]
    },
    {
      "cell_type": "code",
      "metadata": {
        "id": "CwF4gZOqLf0S",
        "colab_type": "code",
        "outputId": "175e0d48-f6bb-4946-bda6-e36fee69cd69",
        "colab": {
          "base_uri": "https://localhost:8080/",
          "height": 782
        }
      },
      "source": [
        "for column in df.columns[:5]:\n",
        "    print(df.select(column).show(2))"
      ],
      "execution_count": 24,
      "outputs": [
        {
          "output_type": "stream",
          "text": [
            "+---+\n",
            "| Id|\n",
            "+---+\n",
            "|  1|\n",
            "|  2|\n",
            "+---+\n",
            "only showing top 2 rows\n",
            "\n",
            "None\n",
            "+----------+\n",
            "|MSSubClass|\n",
            "+----------+\n",
            "|        60|\n",
            "|        20|\n",
            "+----------+\n",
            "only showing top 2 rows\n",
            "\n",
            "None\n",
            "+--------+\n",
            "|MSZoning|\n",
            "+--------+\n",
            "|      RL|\n",
            "|      RL|\n",
            "+--------+\n",
            "only showing top 2 rows\n",
            "\n",
            "None\n",
            "+-----------+\n",
            "|LotFrontage|\n",
            "+-----------+\n",
            "|       65.0|\n",
            "|       80.0|\n",
            "+-----------+\n",
            "only showing top 2 rows\n",
            "\n",
            "None\n",
            "+-------+\n",
            "|LotArea|\n",
            "+-------+\n",
            "|   8450|\n",
            "|   9600|\n",
            "+-------+\n",
            "only showing top 2 rows\n",
            "\n",
            "None\n"
          ],
          "name": "stdout"
        }
      ]
    },
    {
      "cell_type": "code",
      "metadata": {
        "id": "4mc-7A55Li3C",
        "colab_type": "code",
        "outputId": "e9c34ac5-849b-44b4-8fac-f6286c1c330d",
        "colab": {
          "base_uri": "https://localhost:8080/",
          "height": 34
        }
      },
      "source": [
        "df.select('Neighborhood').distinct().count()"
      ],
      "execution_count": 25,
      "outputs": [
        {
          "output_type": "execute_result",
          "data": {
            "text/plain": [
              "25"
            ]
          },
          "metadata": {
            "tags": []
          },
          "execution_count": 25
        }
      ]
    },
    {
      "cell_type": "code",
      "metadata": {
        "id": "GbMePP2ORbu9",
        "colab_type": "code",
        "outputId": "ed61739d-3af2-41d2-8b9c-b1bace00c8a1",
        "colab": {
          "base_uri": "https://localhost:8080/",
          "height": 136
        }
      },
      "source": [
        "df.select('Street').distinct().show()"
      ],
      "execution_count": 26,
      "outputs": [
        {
          "output_type": "stream",
          "text": [
            "+------+\n",
            "|Street|\n",
            "+------+\n",
            "|  Pave|\n",
            "|  Grvl|\n",
            "+------+\n",
            "\n"
          ],
          "name": "stdout"
        }
      ]
    },
    {
      "cell_type": "code",
      "metadata": {
        "id": "dIhaIi0ARqy8",
        "colab_type": "code",
        "outputId": "1a0dc282-3171-4c0a-99da-d94d8e455004",
        "colab": {
          "base_uri": "https://localhost:8080/",
          "height": 204
        }
      },
      "source": [
        "df.select('SaleCondition').distinct().show()"
      ],
      "execution_count": 27,
      "outputs": [
        {
          "output_type": "stream",
          "text": [
            "+-------------+\n",
            "|SaleCondition|\n",
            "+-------------+\n",
            "|       Alloca|\n",
            "|      Partial|\n",
            "|       Family|\n",
            "|      Abnorml|\n",
            "|      AdjLand|\n",
            "|       Normal|\n",
            "+-------------+\n",
            "\n"
          ],
          "name": "stdout"
        }
      ]
    },
    {
      "cell_type": "code",
      "metadata": {
        "id": "amTHb9qlR8Uf",
        "colab_type": "code",
        "outputId": "9422adf5-4bbb-43b6-9996-1ae7822aac36",
        "colab": {
          "base_uri": "https://localhost:8080/",
          "height": 34
        }
      },
      "source": [
        "df.select('YrSold').distinct().count()"
      ],
      "execution_count": 28,
      "outputs": [
        {
          "output_type": "execute_result",
          "data": {
            "text/plain": [
              "5"
            ]
          },
          "metadata": {
            "tags": []
          },
          "execution_count": 28
        }
      ]
    },
    {
      "cell_type": "code",
      "metadata": {
        "id": "TKWD2H9wSafk",
        "colab_type": "code",
        "outputId": "afae7b8d-a7a5-4fc4-e6bc-c5a7706770eb",
        "colab": {
          "base_uri": "https://localhost:8080/",
          "height": 34
        }
      },
      "source": [
        "df.filter(df['SalePrice'] > 200000).select('YrSold').distinct().count()"
      ],
      "execution_count": 29,
      "outputs": [
        {
          "output_type": "execute_result",
          "data": {
            "text/plain": [
              "5"
            ]
          },
          "metadata": {
            "tags": []
          },
          "execution_count": 29
        }
      ]
    },
    {
      "cell_type": "code",
      "metadata": {
        "id": "RnMp7XRSLmlS",
        "colab_type": "code",
        "colab": {}
      },
      "source": [
        "from pyspark.sql.functions import mean, stddev, col"
      ],
      "execution_count": 0,
      "outputs": []
    },
    {
      "cell_type": "code",
      "metadata": {
        "id": "sRsnzevOLrhS",
        "colab_type": "code",
        "colab": {}
      },
      "source": [
        "df_stats = df.select(\n",
        "    mean(col('SalePrice')).alias('mean'),\n",
        "    stddev(col('SalePrice')).alias('std')\n",
        ").collect()"
      ],
      "execution_count": 0,
      "outputs": []
    },
    {
      "cell_type": "code",
      "metadata": {
        "id": "WC6IcIVrLuoy",
        "colab_type": "code",
        "outputId": "6c02fe3d-a4dc-4523-80dc-2fefb213504b",
        "colab": {
          "base_uri": "https://localhost:8080/",
          "height": 34
        }
      },
      "source": [
        "df_stats"
      ],
      "execution_count": 67,
      "outputs": [
        {
          "output_type": "execute_result",
          "data": {
            "text/plain": [
              "[Row(mean=180921.19589041095, std=79442.50288288663)]"
            ]
          },
          "metadata": {
            "tags": []
          },
          "execution_count": 67
        }
      ]
    },
    {
      "cell_type": "code",
      "metadata": {
        "id": "a9V366IoEdM5",
        "colab_type": "code",
        "colab": {}
      },
      "source": [
        "col1 = df['YrSold'],\n",
        "col2 = df['SalePrice']"
      ],
      "execution_count": 0,
      "outputs": []
    },
    {
      "cell_type": "code",
      "metadata": {
        "id": "lAHFuBckM5FN",
        "colab_type": "code",
        "colab": {
          "base_uri": "https://localhost:8080/",
          "height": 282
        },
        "outputId": "d95be8bb-ab5f-4e46-ad08-aed039b26df7"
      },
      "source": [
        "df.corr(col1, col2)"
      ],
      "execution_count": 115,
      "outputs": [
        {
          "output_type": "error",
          "ename": "ValueError",
          "evalue": "ignored",
          "traceback": [
            "\u001b[0;31m---------------------------------------------------------------------------\u001b[0m",
            "\u001b[0;31mValueError\u001b[0m                                Traceback (most recent call last)",
            "\u001b[0;32m<ipython-input-115-5c5f6c5717f2>\u001b[0m in \u001b[0;36m<module>\u001b[0;34m()\u001b[0m\n\u001b[0;32m----> 1\u001b[0;31m \u001b[0mdf\u001b[0m\u001b[0;34m.\u001b[0m\u001b[0mcorr\u001b[0m\u001b[0;34m(\u001b[0m\u001b[0mcol1\u001b[0m\u001b[0;34m,\u001b[0m \u001b[0mcol2\u001b[0m\u001b[0;34m)\u001b[0m\u001b[0;34m\u001b[0m\u001b[0;34m\u001b[0m\u001b[0m\n\u001b[0m",
            "\u001b[0;32m/content/spark-2.4.3-bin-hadoop2.7/python/pyspark/sql/dataframe.py\u001b[0m in \u001b[0;36mcorr\u001b[0;34m(self, col1, col2, method)\u001b[0m\n\u001b[1;32m   1898\u001b[0m         \"\"\"\n\u001b[1;32m   1899\u001b[0m         \u001b[0;32mif\u001b[0m \u001b[0;32mnot\u001b[0m \u001b[0misinstance\u001b[0m\u001b[0;34m(\u001b[0m\u001b[0mcol1\u001b[0m\u001b[0;34m,\u001b[0m \u001b[0mbasestring\u001b[0m\u001b[0;34m)\u001b[0m\u001b[0;34m:\u001b[0m\u001b[0;34m\u001b[0m\u001b[0;34m\u001b[0m\u001b[0m\n\u001b[0;32m-> 1900\u001b[0;31m             \u001b[0;32mraise\u001b[0m \u001b[0mValueError\u001b[0m\u001b[0;34m(\u001b[0m\u001b[0;34m\"col1 should be a string.\"\u001b[0m\u001b[0;34m)\u001b[0m\u001b[0;34m\u001b[0m\u001b[0;34m\u001b[0m\u001b[0m\n\u001b[0m\u001b[1;32m   1901\u001b[0m         \u001b[0;32mif\u001b[0m \u001b[0;32mnot\u001b[0m \u001b[0misinstance\u001b[0m\u001b[0;34m(\u001b[0m\u001b[0mcol2\u001b[0m\u001b[0;34m,\u001b[0m \u001b[0mbasestring\u001b[0m\u001b[0;34m)\u001b[0m\u001b[0;34m:\u001b[0m\u001b[0;34m\u001b[0m\u001b[0;34m\u001b[0m\u001b[0m\n\u001b[1;32m   1902\u001b[0m             \u001b[0;32mraise\u001b[0m \u001b[0mValueError\u001b[0m\u001b[0;34m(\u001b[0m\u001b[0;34m\"col2 should be a string.\"\u001b[0m\u001b[0;34m)\u001b[0m\u001b[0;34m\u001b[0m\u001b[0;34m\u001b[0m\u001b[0m\n",
            "\u001b[0;31mValueError\u001b[0m: col1 should be a string."
          ]
        }
      ]
    },
    {
      "cell_type": "code",
      "metadata": {
        "id": "qCG1DchgQg5m",
        "colab_type": "code",
        "colab": {
          "base_uri": "https://localhost:8080/",
          "height": 163
        },
        "outputId": "b60fa565-c606-4dff-9851-a73cb1289d34"
      },
      "source": [
        "df.corr(['YrSold', 'SalePrice'])"
      ],
      "execution_count": 116,
      "outputs": [
        {
          "output_type": "error",
          "ename": "TypeError",
          "evalue": "ignored",
          "traceback": [
            "\u001b[0;31m---------------------------------------------------------------------------\u001b[0m",
            "\u001b[0;31mTypeError\u001b[0m                                 Traceback (most recent call last)",
            "\u001b[0;32m<ipython-input-116-8ba1eba18a44>\u001b[0m in \u001b[0;36m<module>\u001b[0;34m()\u001b[0m\n\u001b[0;32m----> 1\u001b[0;31m \u001b[0mdf\u001b[0m\u001b[0;34m.\u001b[0m\u001b[0mcorr\u001b[0m\u001b[0;34m(\u001b[0m\u001b[0;34m[\u001b[0m\u001b[0;34m'YrSold'\u001b[0m\u001b[0;34m,\u001b[0m \u001b[0;34m'SalePrice'\u001b[0m\u001b[0;34m]\u001b[0m\u001b[0;34m)\u001b[0m\u001b[0;34m\u001b[0m\u001b[0;34m\u001b[0m\u001b[0m\n\u001b[0m",
            "\u001b[0;31mTypeError\u001b[0m: corr() missing 1 required positional argument: 'col2'"
          ]
        }
      ]
    },
    {
      "cell_type": "code",
      "metadata": {
        "id": "wjLnNkC7RbtQ",
        "colab_type": "code",
        "colab": {}
      },
      "source": [
        ""
      ],
      "execution_count": 0,
      "outputs": []
    }
  ]
}